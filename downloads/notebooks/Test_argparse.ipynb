{
 "metadata": {
  "name": "",
  "signature": "sha256:88ccc68068b60fa51ca4ad23c7dff7be932d00f4e7d898741bee038ae9668b19"
 },
 "nbformat": 3,
 "nbformat_minor": 0,
 "worksheets": [
  {
   "cells": [
    {
     "cell_type": "raw",
     "metadata": {},
     "source": [
      "title:  Some tests of argparse and configparser modules\n",
      "slug: Argparse-configparser tests\n",
      "date: 2014-08-05 22:12\n",
      "tags: misc\n",
      "comments: true\n"
     ]
    },
    {
     "cell_type": "markdown",
     "metadata": {},
     "source": [
      "Here are some notes on two modules of the standard library that can help to develop small scripts. The module [argparse](https://docs.python.org/dev/library/argparse.html) helps to parse the arguments to the script while the module [configparser](https://docs.python.org/3/library/configparser.html) is useful for reading a particular textfile configuration.  "
     ]
    },
    {
     "cell_type": "markdown",
     "metadata": {},
     "source": [
      "## Argparse examples"
     ]
    },
    {
     "cell_type": "markdown",
     "metadata": {},
     "source": [
      "The argparse module of the standard library is designed to ease the parsing of arguments to a script, either mandatory or optional. Besides, it offers a unix like help ans documentation of the script interface.The documentation is available in [https://docs.python.org/dev/library/argparse.html](https://docs.python.org/dev/library/argparse.html), together with a [howto](https://docs.python.org/dev/howto/argparse.html). \n",
      "A tutorial is also available in [Python Module of the Week](http://pymotw.com/2/argparse/). "
     ]
    },
    {
     "cell_type": "code",
     "collapsed": false,
     "input": [
      "%%file argparse_tst.py\n",
      "#!/usr/bin/env python3\n",
      "# -*- coding: utf-8 -*-\n",
      "#\"\"\"\n",
      "#Created on July 19, 2014\n",
      "#@author: bercherj\n",
      "#\"\"\"\n",
      "\n",
      "import argparse\n",
      "import sys\n",
      "\n",
      "whatitdoes=\"This program returns some interesting calculations.\"\n",
      "myself=\"(c) JFB\"\n",
      "parser = argparse.ArgumentParser(description=whatitdoes, epilog=myself)\n",
      "\n",
      "parser.add_argument(\n",
      "# no option eg  '-o' '--output' --> positional argument\n",
      "help = 'A number',\n",
      "dest = 'num1',\n",
      "default = 3,\n",
      "type = int,\n",
      "nargs = 1 # if '*' any number of arguments\n",
      ")\n",
      "\n",
      "parser.add_argument(\n",
      "# no option eg  '-o' '--output' --> positional argument\n",
      "help = 'A number',\n",
      "dest = 'num2',\n",
      "default = 3,\n",
      "type = int,\n",
      "nargs = 1 # if '*' any number of arguments\n",
      ")\n",
      "\n",
      "parser.add_argument('-o', dest='out', default=sys.stdout, \n",
      "                    help=\"optional output file\", metavar='out-file', \n",
      "                    type=str)\n",
      "# default=sys.stdout\n",
      "\n",
      "parser.add_argument(\n",
      "# no option eg  '-o' '--output' --> positional argument (no flag)\n",
      "# but with a default value\n",
      "help = 'A string',\n",
      "dest = 'strarg',\n",
      "default = 'Test',\n",
      "type = str,\n",
      "nargs = '?' # 0 or 1\n",
      ")\n",
      "\n",
      "\n",
      "parser.add_argument(\n",
      "'-op',\n",
      "'--operation',\n",
      "help = 'An operation to apply to the two numbers',\n",
      "dest = 'op',\n",
      "default = 'add',\n",
      "choices=('add','sub','mul','div','pow'),\n",
      "action='store'\n",
      ")\n",
      "\n",
      "parser.add_argument(\n",
      "'-f',\n",
      "'--flag',\n",
      "help = 'A flag',\n",
      "dest = 'flag',\n",
      "default = False,\n",
      "action='store_true'\n",
      ")\n",
      "\n",
      "parser.add_argument(\n",
      "'-v',\n",
      "'--verbose',\n",
      "help = 'Prints information',\n",
      "dest = 'verbose',\n",
      "default = False,\n",
      "action='count'\n",
      ")\n",
      "\n",
      "def add(a,b): return a+b\n",
      "def sub(a,b): return a-b\n",
      "def mul(a,b): return a*b\n",
      "def div(a,b): return a/b\n",
      "def pow(a,b): return a**b\n",
      "\n",
      "args = parser.parse_args()\n",
      "op={'add':add, 'sub':sub, 'mul':mul, 'div':div, 'pow':pow}\n",
      "op_string={'add':'addition', 'sub':'subtraction', 'mul':'multiplication', \n",
      "           'div':'division', 'pow':'power'}\n",
      "\n",
      "verbose=args.verbose\n",
      "out=open(args.out,\"wt\")\n",
      "num1 = args.num1[0]\n",
      "num2 = args.num2[0]\n",
      "\n",
      "print(\"List of arguments: \", args, file=out)\n",
      "\n",
      "if args.flag: \n",
      "    print(\"Flag f is set\",file=out) \n",
      "else: \n",
      "    print(\"Flag f is not set\",file=out)\n",
      "\n",
      "if verbose: print(\"Computing the {0} of {1:d} and {2:d}\".format(op_string[args.op],num1,num2),\n",
      "                  file=out)\n",
      "print(\"Result: \", op[args.op](num1,num2),file=out)\n",
      "out.close()\n"
     ],
     "language": "python",
     "metadata": {},
     "outputs": [
      {
       "output_type": "stream",
       "stream": "stdout",
       "text": [
        "Overwriting argparse_tst.py\n"
       ]
      }
     ],
     "prompt_number": 43
    },
    {
     "cell_type": "code",
     "collapsed": false,
     "input": [
      "%run argparse_tst -hIPython NotebookTest_argparse Last Checkpoint: Aug 05 22:39 (autosaved)\n",
      "File\n",
      "Edit\n",
      "View\n",
      "Insert\n",
      "Cell\n",
      "Kernel\n",
      "Help\n",
      " Cell Toolbar:\n",
      "\n",
      "title:  Some tests of argparse and configparser modules\n",
      "slug: Argparse-configparser tests\n",
      "date: 2014-08-05 22:12\n",
      "tags: misc\n",
      "comments: true\n",
      " \n",
      "Here are some notes on two modules of the standard library that can help to develop small scripts. The module argparse helps to parse the arguments to the script while the module configparser is useful for reading a particular textfile configuration.\n",
      "Argparse examples\n",
      "The argparse module of the standard library is designed to ease the parsing of arguments to a script, either mandatory or optional. Besides, it offers a unix like help ans documentation of the script interface.The documentation is available in https://docs.python.org/dev/library/argparse.html, together with a howto. A tutorial is also available in Python Module of the Week.\n",
      "\n",
      "%%file argparse_tst.py\n",
      "#!/usr/bin/env python3\n",
      "# -*- coding: utf-8 -*-\n",
      "#\"\"\"\n",
      "#Created on July 19, 2014\n",
      "#@author: bercherj\n",
      "#\"\"\"\n",
      " \n",
      "import argparse\n",
      "import sys\n",
      " \n",
      "whatitdoes=\"This program returns some interesting calculations.\"\n",
      "myself=\"(c) JFB\"\n",
      "parser = argparse.ArgumentParser(description=whatitdoes, epilog=myself)\n",
      " \n",
      "parser.add_argument(\n",
      "# no option eg  '-o' '--output' --> positional argument\n",
      "help = 'A number',\n",
      "dest = 'num1',\n",
      "default = 3,\n",
      "type = int,\n",
      "nargs = 1 # if '*' any number of arguments\n",
      ")\n",
      " \n",
      "parser.add_argument(\n",
      "# no option eg  '-o' '--output' --> positional argument\n",
      "help = 'A number',\n",
      "dest = 'num2',\n",
      "default = 3,\n",
      "type = int,\n",
      "nargs = 1 # if '*' any number of arguments\n",
      ")\n",
      " \n",
      "parser.add_argument('-o', dest='out', default=sys.stdout, \n",
      "                    help=\"optional output file\", metavar='out-file', \n",
      "                    type=str)\n",
      "# default=sys.stdout\n",
      " \n",
      "parser.add_argument(\n",
      "# no option eg  '-o' '--output' --> positional argument (no flag)\n",
      "# but with a default value\n",
      "help = 'A string',\n",
      "dest = 'strarg',\n",
      "default = 'Test',\n",
      "type = str,\n",
      "nargs = '?' # 0 or 1\n",
      ")\n",
      " \n",
      " \n",
      "parser.add_argument(\n",
      "'-op',\n",
      "'--operation',\n",
      "help = 'An operation to apply to the two numbers',\n",
      "dest = 'op',\n",
      "default = 'add',\n",
      "choices=('add','sub','mul','div','pow'),\n",
      "action='store'\n",
      ")\n",
      " \n",
      "parser.add_argument(\n",
      "'-f',\n",
      "'--flag',\n",
      "help = 'A flag',\n",
      "dest = 'flag',\n",
      "default = False,\n",
      "action='store_true'\n",
      ")\n",
      " \n",
      "parser.add_argument(\n",
      "'-v',\n",
      "'--verbose',\n",
      "help = 'Prints information',\n",
      "dest = 'verbose',\n",
      "default = False,\n",
      "action='count'\n",
      ")\n",
      " \n",
      "def add(a,b): return a+b\n",
      "def sub(a,b): return a-b\n",
      "def mul(a,b): return a*b\n",
      "def div(a,b): return a/b\n",
      "def pow(a,b): return a**b\n",
      " \n",
      "args = parser.parse_args()\n",
      "op={'add':add, 'sub':sub, 'mul':mul, 'div':div, 'pow':pow}\n",
      "op_string={'add':'addition', 'sub':'subtraction', 'mul':'multiplication', \n",
      "           'div':'division', 'pow':'power'}\n",
      " \n",
      "verbose=args.verbose\n",
      "out=open(args.out,\"wt\")\n",
      "num1 = args.num1[0]\n",
      "num2 = args.num2[0]\n",
      " \n",
      "print(\"List of arguments: \", args, file=out)\n",
      " \n",
      "if args.flag: \n",
      "    print(\"Flag f is set\",file=out) \n",
      "else: \n",
      "    print(\"Flag f is not set\",file=out)\n",
      " \n",
      "if verbose: print(\"Computing the {0} of {1:d} and {2:d}\".format(op_string[args.op],num1,num2),\n",
      "                  file=out)\n",
      "print(\"Result: \", op[args.op](num1,num2),file=out)\n",
      "out.close()\n",
      " \n",
      "Overwriting argparse_tst.py\n",
      "\n",
      "%run argparse_tst -h\n",
      "usage: argparse_tst.py [-h] [-o out-file] [-op {add,sub,mul,div,pow}] [-f]\n",
      "                       [-v]\n",
      "                       num1 num2 [strarg]\n"
     ],
     "language": "python",
     "metadata": {},
     "outputs": [
      {
       "output_type": "stream",
       "stream": "stdout",
       "text": [
        "usage: argparse_tst.py [-h] [-o out-file] [-op {add,sub,mul,div,pow}] [-f]\n",
        "                       [-v]\n",
        "                       num1 num2 [strarg]\n",
        "\n",
        "This program returns some interesting calculations.\n",
        "\n",
        "positional arguments:\n",
        "  num1                  A number\n",
        "  num2                  A number\n",
        "  strarg                A string\n",
        "\n",
        "optional arguments:\n",
        "  -h, --help            show this help message and exit\n",
        "  -o out-file           optional output file\n",
        "  -op {add,sub,mul,div,pow}, --operation {add,sub,mul,div,pow}\n",
        "                        An operation to apply to the two numbers\n",
        "  -f, --flag            A flag\n",
        "  -v, --verbose         Prints information\n",
        "\n",
        "(c) JFB\n"
       ]
      }
     ],
     "prompt_number": 44
    },
    {
     "cell_type": "code",
     "collapsed": false,
     "input": [
      "%run argparse_tst 2 2 -op=add -vv -o=bibi.txt"
     ],
     "language": "python",
     "metadata": {},
     "outputs": [],
     "prompt_number": 45
    },
    {
     "cell_type": "code",
     "collapsed": false,
     "input": [
      "cat bibi.txt"
     ],
     "language": "python",
     "metadata": {},
     "outputs": [
      {
       "output_type": "stream",
       "stream": "stdout",
       "text": [
        "List of arguments:  Namespace(flag=False, num1=[2], num2=[2], op='add', out='bibi.txt', strarg='Test', verbose=2)\r\n",
        "Flag f is not set\r\n",
        "Computing the addition of 2 and 2\r\n",
        "Result:  4\r\n"
       ]
      }
     ],
     "prompt_number": 46
    },
    {
     "cell_type": "markdown",
     "metadata": {},
     "source": [
      "## ConfigParser\n",
      "It is also possible to load a prespecified configuration, using a config parser, like [ConfigParser](https://docs.python.org/3/library/configparser.html) in the standard library. We give a simple example here, where we load a proxy configuration."
     ]
    },
    {
     "cell_type": "markdown",
     "metadata": {},
     "source": [
      "### The proxy configuration"
     ]
    },
    {
     "cell_type": "code",
     "collapsed": false,
     "input": [
      "%%file proxies.cfg\n",
      "[esiee]\n",
      "http = http://cache.esiee.fr:3128/\n",
      "https = http://cache.esiee.fr:3128/\n",
      "[home]\n",
      "http = http://proxy.domain.ext:3128/\n",
      "https = http://proxy.domain.ext:3128/    \n"
     ],
     "language": "python",
     "metadata": {},
     "outputs": [
      {
       "output_type": "stream",
       "stream": "stdout",
       "text": [
        "Writing proxies.cfg\n"
       ]
      }
     ],
     "prompt_number": 47
    },
    {
     "cell_type": "code",
     "collapsed": false,
     "input": [
      "%%file configparser_tst.py\n",
      "\n",
      "import argparse\n",
      "\n",
      "whatitdoes=\"This program tests the config parser.\"\n",
      "myself=\"(c) JFB\"\n",
      "parser = argparse.ArgumentParser(description=whatitdoes, epilog=myself)\n",
      "\n",
      "parser.add_argument('-v','--verbose',help = 'Prints information',\n",
      "dest = 'verbose',default = False,action='store_true')\n",
      "\n",
      "parser.add_argument('-p','-proxy','--proxy',\n",
      "    help = 'Takes proxy configuration from \"proxies.cfg\"',\n",
      "dest = 'proxy',default = None,action='store')\n",
      "\n",
      "args = parser.parse_args()\n",
      "print(args)\n",
      "\n",
      "proxies={}\n",
      "if args.proxy: # if the proxy option has been specified in the arguments\n",
      "    import configparser\n",
      "    config = configparser.ConfigParser()\n",
      "    s=config.read('proxies.cfg')\n",
      "    if s: #if the cfg file exists\n",
      "        try:\n",
      "           proxies=dict(config[args.proxy])\n",
      "        except KeyError: # the specified key does not correspond to a section in the cfg file\n",
      "            print(\"'%s' is not a valid key for a proxy section\" % args.proxy)\n",
      "    else:\n",
      "        print(\"The config file proxies.cfg does not exist in current directory\")    \n",
      "\n",
      "print('proxies= ',proxies)\n"
     ],
     "language": "python",
     "metadata": {},
     "outputs": [
      {
       "output_type": "stream",
       "stream": "stdout",
       "text": [
        "Overwriting configparser_tst.py\n"
       ]
      }
     ],
     "prompt_number": 57
    },
    {
     "cell_type": "code",
     "collapsed": false,
     "input": [
      "%run configparser_tst.py -h"
     ],
     "language": "python",
     "metadata": {},
     "outputs": [
      {
       "output_type": "stream",
       "stream": "stdout",
       "text": [
        "usage: configparser_tst.py [-h] [-v] [-p PROXY]\n",
        "\n",
        "This program tests the config parser.\n",
        "\n",
        "optional arguments:\n",
        "  -h, --help            show this help message and exit\n",
        "  -v, --verbose         Prints information\n",
        "  -p PROXY, -proxy PROXY, --proxy PROXY\n",
        "                        Takes proxy configuration from \"proxies.cfg\"\n",
        "\n",
        "(c) JFB\n"
       ]
      }
     ],
     "prompt_number": 153
    },
    {
     "cell_type": "code",
     "collapsed": false,
     "input": [
      "%run configparser_tst.py -p=zerg"
     ],
     "language": "python",
     "metadata": {},
     "outputs": [
      {
       "output_type": "stream",
       "stream": "stdout",
       "text": [
        "Namespace(proxy='zerg', verbose=False)\n",
        "'zerg' is not a valid key for a proxy section\n",
        "proxies=  {}\n"
       ]
      }
     ],
     "prompt_number": 151
    },
    {
     "cell_type": "code",
     "collapsed": false,
     "input": [
      "%run configparser_tst.py -p=esiee"
     ],
     "language": "python",
     "metadata": {},
     "outputs": [
      {
       "output_type": "stream",
       "stream": "stdout",
       "text": [
        "Namespace(proxy='esiee', verbose=False)\n",
        "proxies=  {'http': 'http://cache.esiee.fr:3128/', 'https': 'http://cache.esiee.fr:3128/'}\n"
       ]
      }
     ],
     "prompt_number": 152
    },
    {
     "cell_type": "markdown",
     "metadata": {},
     "source": [
      "## A simple translation script\n",
      "A funny example is the translation of a word given on the command line. For that, we use the [http://glosbe.com/a-api](http://glosbe.com/a-api) API. The script makes use of \n",
      "- arguments on the command line, parsed with `argparse`\n",
      "- a configuration processed thanks to `configparser`\n",
      "- an internet connection"
     ]
    },
    {
     "cell_type": "code",
     "collapsed": false,
     "input": [
      "%%file translate_a_word.py\n",
      "#author:jfb august 2014\n",
      "\n",
      "import argparse\n",
      "import urllib.parse\n",
      "import urllib.request\n",
      "\n",
      "\n",
      "\n",
      "### 1 ###  Script arguments and config ###################################\n",
      "whatitdoes=\"This program translates a word from a language to another.\"\n",
      "myself=\"(c) JFB\"\n",
      "parser = argparse.ArgumentParser(description=whatitdoes, epilog=myself)\n",
      "\n",
      "parser.add_argument('-v','--verbose', help = 'Prints information',\n",
      "dest = 'verbose',default = False, action='store_true')\n",
      "\n",
      "\n",
      "parser.add_argument('-f','--from',help = 'translate from',dest = 'fro',\n",
      "default = 'fr',choices=('en','de','fr','nl','es'),action='store')\n",
      "\n",
      "parser.add_argument('-t','--to',help = 'translate to',dest = 'to',default = 'en',\n",
      "choices=('en','de','fr','nl','es'),action='store')\n",
      "\n",
      "parser.add_argument(help = 'word to translate',dest = 'word',default = 'hello',\n",
      "nargs=1,action='store')\n",
      "\n",
      "parser.add_argument('-p','-proxy','--proxy',\n",
      "                    help = 'Takes proxy configuration from \"proxies.cfg\"',\n",
      "dest = 'proxy',default = None,action='store')\n",
      "\n",
      "\n",
      "args = parser.parse_args()\n",
      "\n",
      "proxies={}\n",
      "if args.proxy:\n",
      "    import configparser\n",
      "    config = configparser.ConfigParser()\n",
      "    s=config.read('proxies.cfg')\n",
      "    if s: #if the cfg file exists\n",
      "        try:\n",
      "           proxies=dict(config[args.proxy])\n",
      "        except KeyError:\n",
      "            print(\"'%s' is not a valid key for a proxy section\" % args.proxy)\n",
      "    else:\n",
      "        print(\"The config file proxies.cfg does not exist in current directory\")    \n",
      "\n",
      "###\u00a02 ### connects to the web service  ###################################\n",
      "url = 'http://glosbe.com/gapi/translate'\n",
      "values = {'from' : args.fro , 'dest' : args.to ,\n",
      "              'format':'json' , 'phrase' : args.word[0] , 'pretty' : 'true', 'tm' : 'false'}\n",
      "                       \n",
      "proxy_handler = urllib.request.ProxyHandler(proxies)\n",
      "opener = urllib.request.build_opener(proxy_handler)\n",
      "response = opener.open(url+'/?'+urllib.parse.urlencode(values))\n",
      "the_page = response.read().decode('latin1')\n",
      "import json\n",
      "page=json.loads(the_page)\n",
      "\n",
      "### 3 ### Prints the translations  #########################################\n",
      "# kind of result filtering\n",
      "import html.parser\n",
      "h = html.parser.HTMLParser()\n",
      "for d in page['tuc']: \n",
      "    if 'phrase' in d.keys():\n",
      "        if 'meanings' in d.keys(): \n",
      "            for k in range(len(d['meanings'])):\n",
      "                 print(h.unescape(d['meanings'][k]['text']))\n",
      "        print(\"-->\",d['phrase']['text'])\n"
     ],
     "language": "python",
     "metadata": {},
     "outputs": [
      {
       "output_type": "stream",
       "stream": "stdout",
       "text": [
        "Overwriting translate_a_word.py\n"
       ]
      }
     ],
     "prompt_number": 149
    },
    {
     "cell_type": "markdown",
     "metadata": {},
     "source": [
      "For reference, we look at the dictionary obtained after `page=json.loads(the_page)`"
     ]
    },
    {
     "cell_type": "code",
     "collapsed": false,
     "input": [
      "page['tuc']\n"
     ],
     "language": "python",
     "metadata": {},
     "outputs": [
      {
       "metadata": {},
       "output_type": "pyout",
       "prompt_number": 148,
       "text": [
        "[{'phrase': {'text': 'buenos d\u00c3\\xadas', 'language': 'spa'},\n",
        "  'authors': [1],\n",
        "  'meaningId': 9170866376525822931,\n",
        "  'meanings': [{'text': 'Saludo que se dice al encontrarse con alguien o al despedirse en la ma&ntilde;ana.',\n",
        "    'language': 'spa'},\n",
        "   {'text': 'Salutation dite quand on se rencontre ou quand on se quitte le matin.',\n",
        "    'language': 'fra'},\n",
        "   {'text': 'Saludo que se utiliza durante el d&iacute;a.', 'language': 'spa'},\n",
        "   {'text': 'Salutation dite dans la journ&eacute;e.', 'language': 'fra'}]},\n",
        " {'phrase': {'text': 'hola', 'language': 'spa'},\n",
        "  'authors': [1],\n",
        "  'meaningId': 3237975184227305932,\n",
        "  'meanings': [{'text': 'Expresi&oacute;n de saludo utilizada entre dos o m&aacute;s personas de trato familiar.',\n",
        "    'language': 'spa'},\n",
        "   {'text': 'Expression de salutation utilis&eacute;e entre deux personnes ou plus qui se rencontrent.',\n",
        "    'language': 'fra'}]},\n",
        " {'phrase': {'text': 'buenas tardes', 'language': 'spa'},\n",
        "  'authors': [2698],\n",
        "  'meaningId': 8754367228613803561},\n",
        " {'phrase': {'text': 'buenas ma\u00c3\u00b1anas', 'language': 'spa'},\n",
        "  'authors': [60172],\n",
        "  'meaningId': 844651127364049044,\n",
        "  'meanings': [{'text': 'Saludo que se dice al encontrarse con alguien o al despedirse en la ma&ntilde;ana.',\n",
        "    'language': 'spa'},\n",
        "   {'text': 'Salutation dite quand on se rencontre ou quand on se quitte le matin.',\n",
        "    'language': 'fra'}]},\n",
        " {'phrase': {'text': 'Buenas tardes', 'language': 'spa'},\n",
        "  'authors': [2695],\n",
        "  'meaningId': -7862237962244860629},\n",
        " {'phrase': {'text': 'buenos dias', 'language': 'spa'},\n",
        "  'authors': [2697],\n",
        "  'meaningId': -6184143237658615968},\n",
        " {'phrase': {'text': 'qu\u00c3\u00a9 tal', 'language': 'spa'},\n",
        "  'authors': [1],\n",
        "  'meaningId': -9037967328194913728},\n",
        " {'phrase': {'text': 'saludo', 'language': 'spa'},\n",
        "  'authors': [2692],\n",
        "  'meaningId': 8882182478762943055},\n",
        " {'authors': [1796],\n",
        "  'meaningId': None,\n",
        "  'meanings': [{'text': 'ga&icirc;suwa tsakanin mutun biyu ko daiwa daga asuba har zuwa tasawa rana',\n",
        "    'language': 'fra'}]},\n",
        " {'authors': [2736],\n",
        "  'meaningId': None,\n",
        "  'meanings': [{'text': 'bonsoir (lorsque l&rsquo;on s&rsquo;adresse a une personne qui rentre)',\n",
        "    'language': 'fra'}]},\n",
        " {'authors': [2736],\n",
        "  'meaningId': None,\n",
        "  'meanings': [{'text': 'bonjour (dans la journ&eacute;e)',\n",
        "    'language': 'fra'}]},\n",
        " {'authors': [2736],\n",
        "  'meaningId': None,\n",
        "  'meanings': [{'text': 'bonjour (le matin)', 'language': 'fra'}]}]"
       ]
      }
     ],
     "prompt_number": 148
    },
    {
     "cell_type": "markdown",
     "metadata": {},
     "source": [
      "### And finally the test of the script"
     ]
    },
    {
     "cell_type": "code",
     "collapsed": false,
     "input": [
      "%run translate_a_word.py -h"
     ],
     "language": "python",
     "metadata": {},
     "outputs": [
      {
       "output_type": "stream",
       "stream": "stdout",
       "text": [
        "usage: translate_a_word.py [-h] [-v] [-f {en,de,fr,nl,es}]\n",
        "                           [-t {en,de,fr,nl,es}] [-p PROXY]\n",
        "                           word\n",
        "\n",
        "This program tests the config parser.\n",
        "\n",
        "positional arguments:\n",
        "  word                  word to translate\n",
        "\n",
        "optional arguments:\n",
        "  -h, --help            show this help message and exit\n",
        "  -v, --verbose         Prints information\n",
        "  -f {en,de,fr,nl,es}, --from {en,de,fr,nl,es}\n",
        "                        translate from\n",
        "  -t {en,de,fr,nl,es}, --to {en,de,fr,nl,es}\n",
        "                        translate to\n",
        "  -p PROXY, -proxy PROXY, --proxy PROXY\n",
        "                        Takes proxy configuration from \"proxies.cfg\"\n",
        "\n",
        "(c) JFB\n"
       ]
      }
     ],
     "prompt_number": 137
    },
    {
     "cell_type": "markdown",
     "metadata": {},
     "source": [
      "and an actual translation"
     ]
    },
    {
     "cell_type": "code",
     "collapsed": false,
     "input": [
      "%run translate_a_word.py -f=fr -t=es  bonjour"
     ],
     "language": "python",
     "metadata": {},
     "outputs": [
      {
       "output_type": "stream",
       "stream": "stdout",
       "text": [
        "Saludo que se dice al encontrarse con alguien o al despedirse en la ma\u00f1ana.\n",
        "Salutation dite quand on se rencontre ou quand on se quitte le matin.\n",
        "Saludo que se utiliza durante el d\u00eda.\n",
        "Salutation dite dans la journ\u00e9e.\n",
        "--> buenos d\u00c3\u00adas\n",
        "Expresi\u00f3n de saludo utilizada entre dos o m\u00e1s personas de trato familiar.\n",
        "Expression de salutation utilis\u00e9e entre deux personnes ou plus qui se rencontrent.\n",
        "--> hola\n",
        "--> buenas tardes\n",
        "Saludo que se dice al encontrarse con alguien o al despedirse en la ma\u00f1ana.\n",
        "Salutation dite quand on se rencontre ou quand on se quitte le matin.\n",
        "--> buenas ma\u00c3\u00b1anas\n",
        "--> Buenas tardes\n",
        "--> buenos dias\n",
        "--> qu\u00c3\u00a9 tal\n",
        "--> saludo\n"
       ]
      }
     ],
     "prompt_number": 146
    },
    {
     "cell_type": "code",
     "collapsed": false,
     "input": [
      "HTML(the_end(theNotebook))"
     ],
     "language": "python",
     "metadata": {},
     "outputs": [
      {
       "html": [
        "\n",
        "    <small>\n",
        "    <p> This post was written as an IPython notebook.  It is available for\n",
        "    <a href=\"http://jfbercher.github.com/downloads/notebooks/Test_argparse.ipynb\">download</a> or as a static\n",
        "    <a href=\"http://nbviewer.ipython.org/url/jfbercher.github.com/downloads/notebooks/Test_argparse.ipynb\">html</a>.</p>\n",
        "    <p></p>\n",
        "    <a rel=\"license\" href=\"http://creativecommons.org/licenses/by-sa/4.0/\"><img\n",
        "    alt=\"Creative Commons License\" style=\"border-width:0\"\n",
        "    src=\"http://i.creativecommons.org/l/by-sa/4.0/88x31.png\" /></a><br /><span\n",
        "    xmlns:dct=\"http://purl.org/dc/terms/\"\n",
        "    property=\"dct:title\">jfblog</span> by <a\n",
        "    xmlns:cc=\"http://creativecommons.org/ns#\" href=\"http://jfbercher.github.io/\"\n",
        "    property=\"cc:attributionName\" rel=\"cc:attributionURL\">J.-F. Bercher</a> is\n",
        "    licensed under a <a rel=\"license\"\n",
        "    href=\"http://creativecommons.org/licenses/by-sa/4.0/\">Creative Commons\n",
        "    Attribution-ShareAlike 4.0 International License</a>.<br />Based on a work at <a\n",
        "    xmlns:dct=\"http://purl.org/dc/terms/\" href=\"http://jfbercher.github.io/\"\n",
        "    rel=\"dct:source\">http://jfbercher.github.io/</a>.\n",
        "        "
       ],
       "metadata": {},
       "output_type": "pyout",
       "prompt_number": 1,
       "text": [
        "<IPython.core.display.HTML at 0x7fa50c80b240>"
       ]
      }
     ],
     "prompt_number": 1
    }
   ],
   "metadata": {}
  }
 ]
}