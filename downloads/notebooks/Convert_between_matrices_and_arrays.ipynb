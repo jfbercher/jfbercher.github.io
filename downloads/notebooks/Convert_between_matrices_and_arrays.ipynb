{
 "metadata": {
  "name": "",
  "signature": "sha256:67ef062f0cd28da0d946dc6590ebecc74c74599dfbea789b7322ed293a981bfc"
 },
 "nbformat": 3,
 "nbformat_minor": 0,
 "worksheets": [
  {
   "cells": [
    {
     "cell_type": "raw",
     "metadata": {},
     "source": [
      "title:  Convert between matrices and arrays\n",
      "slug: When using numpy, it is sometimes useful to do part of calculations using matrices rather than arrays. \n",
      "date: 2014-06-12 22:12\n",
      "tags: misc\n",
      "comments: true\n"
     ]
    },
    {
     "cell_type": "markdown",
     "metadata": {},
     "source": [
      "## Converting between arrays and matrices\n",
      "When using numpy, it is sometimes useful to do part of calculations using matrices rather than arrays. Thus it is interesting to be able to convert between the two types. This is easily done as follows, where we use the * operator in functions definitions. This enables to pass a variable number of parameters (in a form of an implicit lists, which is unpacked implicitely then after). "
     ]
    },
    {
     "cell_type": "code",
     "collapsed": false,
     "input": [
      "def tomat(*Z):\n",
      "    \"\"\"Converts the list of arrays in *Z to matrices\"\"\"\n",
      "    Out=[]\n",
      "    for iter in Z:\n",
      "        iter=mat(iter)\n",
      "        Out.append(iter)\n",
      "    return Out\n",
      "    \n",
      "def toarray(*Z):\n",
      "    \"\"\"Converts the list of matrices in *Z to arrays\"\"\"\n",
      "    Out=[]\n",
      "    for iter in Z:\n",
      "        iter=array(iter)\n",
      "        Out.append(iter)\n",
      "    return Out  "
     ],
     "language": "python",
     "metadata": {},
     "outputs": [],
     "prompt_number": 1
    },
    {
     "cell_type": "markdown",
     "metadata": {},
     "source": [
      "A test:"
     ]
    },
    {
     "cell_type": "code",
     "collapsed": false,
     "input": [
      "    A=randn(10,10)\n",
      "    B=randn(7,14)\n",
      "    C=[1, 3, 4]\n",
      "    D,E,F=tomat(A,B,C)\n",
      "    print(type(D))\n",
      "    G,H,L=toarray(D,E,F)\n",
      "    print(type(L))\n",
      "    #\n",
      "    A,B,C=tomat(A,B,C)\n",
      "    print(type(A))"
     ],
     "language": "python",
     "metadata": {},
     "outputs": [
      {
       "output_type": "stream",
       "stream": "stdout",
       "text": [
        "<class 'numpy.matrixlib.defmatrix.matrix'>\n",
        "<class 'numpy.ndarray'>\n",
        "<class 'numpy.matrixlib.defmatrix.matrix'>\n"
       ]
      }
     ],
     "prompt_number": 2
    },
    {
     "cell_type": "markdown",
     "metadata": {},
     "source": [
      "A possible use is for situations like this: given two colomns vectors $x$ and $y$ and a matrix $A$, compute $$z=x^T A y$$"
     ]
    },
    {
     "cell_type": "code",
     "collapsed": false,
     "input": [
      "x=randn(10)\n",
      "y=randn(10)\n",
      "A=randn(10,10)\n",
      "# These are all arrays\n",
      "print(\"Type of x: \",type(x))\n",
      "# The expression computed using array's dot products:\n",
      "z=x.dot(A).dot(y)\n",
      "print(z)\n",
      "# And computed using classical matrix notations\n",
      "x,y,A=tomat(x,y,A)\n",
      "print(\"Shape of x: \",shape(x))\n",
      "zz=x*A*y.T\n",
      "print(zz)"
     ],
     "language": "python",
     "metadata": {},
     "outputs": [
      {
       "output_type": "stream",
       "stream": "stdout",
       "text": [
        "Type of x:  <class 'numpy.ndarray'>\n",
        "19.6823406445\n",
        "(1, 10)\n",
        "[[ 19.68234064]]\n"
       ]
      }
     ],
     "prompt_number": 11
    },
    {
     "cell_type": "markdown",
     "metadata": {},
     "source": [
      "A script file 'tofromatarray.py' is available [here](./downloads/code/tofromatarray.py)"
     ]
    },
    {
     "cell_type": "code",
     "collapsed": false,
     "input": [
      "HTML(the_end(theNotebook))"
     ],
     "language": "python",
     "metadata": {},
     "outputs": [
      {
       "html": [
        "\n",
        "    <small>\n",
        "    <p> This post was written as an IPython notebook.  It is available for\n",
        "    <a href=\"http://jfbercher.github.com/jfblog/downloads/notebooks/Convert_between_matrices_and_arrays.ipynb\">download</a> or as a static\n",
        "    <a href=\"http://nbviewer.ipython.org/url/jfbercher.github.com/jfblog/downloads/notebooks/Convert_between_matrices_and_arrays.ipynb\">html</a>.</p>\n",
        "    <p></p>\n",
        "    <a rel=\"license\" href=\"http://creativecommons.org/licenses/by-sa/4.0/\"><img\n",
        "    alt=\"Creative Commons License\" style=\"border-width:0\"\n",
        "    src=\"http://i.creativecommons.org/l/by-sa/4.0/88x31.png\" /></a><br /><span\n",
        "    xmlns:dct=\"http://purl.org/dc/terms/\"\n",
        "    property=\"dct:title\">jfblog</span> by <a\n",
        "    xmlns:cc=\"http://creativecommons.org/ns#\" href=\"http://jfbercher.github.io/\"\n",
        "    property=\"cc:attributionName\" rel=\"cc:attributionURL\">J.-F. Bercher</a> is\n",
        "    licensed under a <a rel=\"license\"\n",
        "    href=\"http://creativecommons.org/licenses/by-sa/4.0/\">Creative Commons\n",
        "    Attribution-ShareAlike 4.0 International License</a>.<br />Based on a work at <a\n",
        "    xmlns:dct=\"http://purl.org/dc/terms/\" href=\"http://jfbercher.github.io/\"\n",
        "    rel=\"dct:source\">http://jfbercher.github.io/</a>.\n",
        "        "
       ],
       "metadata": {},
       "output_type": "pyout",
       "prompt_number": 1,
       "text": [
        "<IPython.core.display.HTML at 0x7ff661248320>"
       ]
      }
     ],
     "prompt_number": 1
    }
   ],
   "metadata": {}
  }
 ]
}