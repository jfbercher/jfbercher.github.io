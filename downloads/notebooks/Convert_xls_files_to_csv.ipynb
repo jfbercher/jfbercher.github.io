{
 "metadata": {
  "name": "",
  "signature": "sha256:8850abad82cdefea26e077784b9038468987f6a8bbed8fb4043da1a9142989a2"
 },
 "nbformat": 3,
 "nbformat_minor": 0,
 "worksheets": [
  {
   "cells": [
    {
     "cell_type": "raw",
     "metadata": {},
     "source": [
      "title:  Convert xls files to csv\n",
      "slug: Convert xls files to csv\n",
      "date: 2014-07-2 22:12\n",
      "tags: misc, xls\n",
      "comments: true\n"
     ]
    },
    {
     "cell_type": "markdown",
     "metadata": {},
     "source": [
      "I had to convert a bunch of xlsx files to csv. A simple solution is obtained thanks to the libraries in http://www.python-excel.org/. More specifically, I only had to use `xlrd`. It is as simple as\n",
      "```python\n",
      "wb = xlrd.open_workbook(file)\n",
      "sh = wb.sheet_by_name('Sheet1')\n",
      "```\n",
      "Now the `sh` object contains the first sheet and we can use methods to read the content. The rest of the work consists in opening a new file for writing and do the actual writing, thanks to the `csv` library. I also use the argparse library to parse scripts arguments. "
     ]
    },
    {
     "cell_type": "code",
     "collapsed": false,
     "input": [
      "%%file xls2csv.py \n",
      "import xlrd\n",
      "import csv\n",
      "import glob\n",
      "import os\n",
      "import sys\n",
      "\n",
      "def csv_from_excel(file):\n",
      "\n",
      "    wb = xlrd.open_workbook(file)\n",
      "    sheets=wb.sheet_names()\n",
      "    sh = wb.sheet_by_name(sheets[0])\n",
      "              \n",
      "    if sys.version_info >= (3,0,0):\n",
      "        your_csv_file = open(file.split('.xlsx')[0] + '.csv', 'w', newline='')\n",
      "    else:\n",
      "        your_csv_file = open(file.split('.xlsx')[0] + '.csv', 'wb')\n",
      "    wr = csv.writer(your_csv_file, delimiter='\\t', quoting=csv.QUOTE_NONE)\n",
      "\n",
      "    for rownum in range(sh.nrows):\n",
      "        wr.writerow(sh.row_values(rownum))\n",
      "\n",
      "    your_csv_file.close()\n",
      "\t\n",
      "\n",
      "verbose=True    \n",
      "if __name__ == '__main__':\t\n",
      "    import argparse\n",
      "\n",
      "    whatitdoes=\"This program converts a series of xls[x] files into csv.\"\n",
      "    myself=\"(c) JFB 2014\"\n",
      "    parser = argparse.ArgumentParser(description=whatitdoes, epilog=myself)\n",
      "    # mandatory argument\n",
      "    parser.add_argument(\n",
      "    help = 'List of files to convert (accepts regular expressions)',\n",
      "    dest = 'argfiles', default = '*.xls*', type = str,  nargs = '*')\n",
      "    # verbosity flag\n",
      "    parser.add_argument('-v','--verbose', help = 'Prints information',\n",
      "    dest = 'verbose', default = False,   #action='store_true'\n",
      "    action='count')\n",
      "\n",
      "    arguments = parser.parse_args()\n",
      "    verbose=arguments.verbose\n",
      "    if verbose==2: print(\"script arg: \", arguments.argfiles)\n",
      "    xlsx_files = glob.glob(arguments.argfiles[0])\n",
      "    if verbose==2: print(\"glog.glog expansion: \", xlsx_files, '\\n')\n",
      "    if len(xlsx_files) == 0:\n",
      "        raise RuntimeError('No XLSX files to convert.')\n",
      "          \n",
      "    for file in xlsx_files:\n",
      "        if verbose:\n",
      "            print(\"Converting {}\".format(file))\n",
      "        csv_from_excel(file)"
     ],
     "language": "python",
     "metadata": {},
     "outputs": [
      {
       "output_type": "stream",
       "stream": "stdout",
       "text": [
        "Overwriting xls2csv.py\n"
       ]
      }
     ],
     "prompt_number": 71
    },
    {
     "cell_type": "markdown",
     "metadata": {},
     "source": [
      "And now let us test it:"
     ]
    },
    {
     "cell_type": "code",
     "collapsed": false,
     "input": [
      "ls Notes*.xls"
     ],
     "language": "python",
     "metadata": {},
     "outputs": [
      {
       "output_type": "stream",
       "stream": "stdout",
       "text": [
        "NotesB1ST02-ISBS1-2012.xls\r\n",
        "NotesB2ST02-ISBS2-2013-14.xls\r\n",
        "NotesB2ST12- AdaEtClassif-ISBS2-2013-14 (1).xls\r\n",
        "NotesB2ST12- AdaEtClassif-ISBS2-2013-14.xls\r\n",
        "NotesB2ST12-ISBS2-2013-14.xls\r\n"
       ]
      }
     ],
     "prompt_number": 63
    },
    {
     "cell_type": "code",
     "collapsed": false,
     "input": [
      "%run xls2csv -h"
     ],
     "language": "python",
     "metadata": {},
     "outputs": [
      {
       "output_type": "stream",
       "stream": "stdout",
       "text": [
        "usage: xls2csv.py [-h] [-v] [argfiles [argfiles ...]]\n",
        "\n",
        "This program converts a series of xls[x] files into csv.\n",
        "\n",
        "positional arguments:\n",
        "  argfiles       List of files to convert (accepts regular expression)\n",
        "\n",
        "optional arguments:\n",
        "  -h, --help     show this help message and exit\n",
        "  -v, --verbose  Prints information\n",
        "\n",
        "(c) JFB 2014\n"
       ]
      }
     ],
     "prompt_number": 74
    },
    {
     "cell_type": "code",
     "collapsed": false,
     "input": [
      "%run xls2csv -vv \"Note\\*.xls\"\n"
     ],
     "language": "python",
     "metadata": {},
     "outputs": [
      {
       "output_type": "stream",
       "stream": "stdout",
       "text": [
        "script arg:  ['Note*.xls']\n",
        "glog.glog expansion:  ['NotesB2ST12- AdaEtClassif-ISBS2-2013-14 (1).xls', 'NotesB2ST12-ISBS2-2013-14.xls', 'NotesB2ST02-ISBS2-2013-14.xls', 'NotesB2ST12- AdaEtClassif-ISBS2-2013-14.xls', 'NotesB1ST02-ISBS1-2012.xls'] \n",
        "\n",
        "Converting NotesB2ST12- AdaEtClassif-ISBS2-2013-14 (1).xls\n",
        "Converting NotesB2ST12-ISBS2-2013-14.xls\n",
        "Converting NotesB2ST02-ISBS2-2013-14.xls\n",
        "Converting NotesB2ST12- AdaEtClassif-ISBS2-2013-14.xls\n",
        "Converting NotesB1ST02-ISBS1-2012.xls\n"
       ]
      }
     ],
     "prompt_number": 73
    },
    {
     "cell_type": "markdown",
     "metadata": {},
     "source": [
      "Running this notebook will produce the script `xls2csv.py`. Otherwise, this can be also downloaded [here](./downloads/code/xls2csv.py).\n"
     ]
    },
    {
     "cell_type": "code",
     "collapsed": false,
     "input": [
      "HTML(the_end(theNotebook))"
     ],
     "language": "python",
     "metadata": {},
     "outputs": [
      {
       "html": [
        "\n",
        "    <small>\n",
        "    <p> This post was written as an IPython notebook.  It is available for\n",
        "    <a href=\"http://jfbercher.github.com/downloads/notebooks/Convert xls files to csv.ipynb\">download</a> or as a static\n",
        "    <a href=\"http://nbviewer.ipython.org/url/jfbercher.github.com/downloads/notebooks/Convert xls files to csv.ipynb\">html</a>.</p>\n",
        "    <p></p>\n",
        "    <a rel=\"license\" href=\"http://creativecommons.org/licenses/by-sa/4.0/\"><img\n",
        "    alt=\"Creative Commons License\" style=\"border-width:0\"\n",
        "    src=\"http://i.creativecommons.org/l/by-sa/4.0/88x31.png\" /></a><br /><span\n",
        "    xmlns:dct=\"http://purl.org/dc/terms/\"\n",
        "    property=\"dct:title\">jfblog</span> by <a\n",
        "    xmlns:cc=\"http://creativecommons.org/ns#\" href=\"http://jfbercher.github.io/\"\n",
        "    property=\"cc:attributionName\" rel=\"cc:attributionURL\">J.-F. Bercher</a> is\n",
        "    licensed under a <a rel=\"license\"\n",
        "    href=\"http://creativecommons.org/licenses/by-sa/4.0/\">Creative Commons\n",
        "    Attribution-ShareAlike 4.0 International License</a>.<br />Based on a work at <a\n",
        "    xmlns:dct=\"http://purl.org/dc/terms/\" href=\"http://jfbercher.github.io/\"\n",
        "    rel=\"dct:source\">http://jfbercher.github.io/</a>.\n",
        "        "
       ],
       "metadata": {},
       "output_type": "pyout",
       "prompt_number": 77,
       "text": [
        "<IPython.core.display.HTML at 0x7ff560f749e8>"
       ]
      }
     ],
     "prompt_number": 77
    }
   ],
   "metadata": {}
  }
 ]
}