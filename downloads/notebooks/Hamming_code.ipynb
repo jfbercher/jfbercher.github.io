{
 "metadata": {
  "name": "",
  "signature": "sha256:be2ae79205b3597db3ea48e53e889390113b633ec438e03699aa8289eb16976c"
 },
 "nbformat": 3,
 "nbformat_minor": 0,
 "worksheets": [
  {
   "cells": [
    {
     "cell_type": "raw",
     "metadata": {},
     "source": [
      "title:  Hamming_code\n",
      "slug: This is a simple program for illustrating Hamming (7,4) coding\n",
      "date: 2014-06-15 22:12\n",
      "tags: misc\n",
      "comments: true\n"
     ]
    },
    {
     "cell_type": "markdown",
     "metadata": {},
     "source": [
      "# Hamming (7,4) coding\n",
      "A colleague of mine asked me about a simple demonstration of [Hamming code](http://en.wikipedia.org/wiki/Hamming_code). It is inspired by [this link](http://lionel.textmalaysia.com/hamming-code-in-python.html), but unfortunately the code is not available anymore. Below is what I did.  "
     ]
    },
    {
     "cell_type": "markdown",
     "metadata": {},
     "source": [
      "## Two utilitary functions\n",
      "For encoding and decoding to and from binary number representations"
     ]
    },
    {
     "cell_type": "code",
     "collapsed": false,
     "input": [
      "from random import randint\n",
      "import numpy as np\n",
      "\n",
      "# We begin with two utilitary functions\n",
      "def dec2binmat(n):\n",
      "    #This converts a decimal number into a matrix of (int) bits\n",
      "    ll=list(\"{0:04b}\".format(n)) #.format give a string which is converted to a list\n",
      "    ll=[int(k) for k in ll] # for each element in the list convert to int\n",
      "    return np.matrix(ll) # return a matrix\n",
      "\n",
      "def binmat2dec(m):\n",
      "    #This converts a matrix of (int) bits into a decimal number \n",
      "    m=m.reshape(1,size(m),order='C').tolist()[0] # convert to list\n",
      "    s=0\n",
      "    l=len(m)-1\n",
      "    for k,v in enumerate(m):\n",
      "        s+=m[k]*2**(l-k)\n",
      "    return s\n",
      "\n",
      "# examples\n",
      "n=5\n",
      "m=dec2binmat(n)\n",
      "print(\"Number {} converted into binary: {}\".format(n,m))\n",
      "nn=binmat2dec(m)\n",
      "print(\"And back to a decimal number: {}\".format(nn))\n"
     ],
     "language": "python",
     "metadata": {},
     "outputs": [
      {
       "output_type": "stream",
       "stream": "stdout",
       "text": [
        "Number 5 converted into binary: [[0 1 0 1]]\n",
        "And back to a decimal number: 5\n"
       ]
      }
     ],
     "prompt_number": 2
    },
    {
     "cell_type": "markdown",
     "metadata": {},
     "source": [
      "## Hamming(7,4) Codec"
     ]
    },
    {
     "cell_type": "code",
     "collapsed": false,
     "input": [
      "#Method to encode message\n",
      "def encode(message):\n",
      "    # message: binary string representation of the (int) number\n",
      "      \n",
      "    message = np.matrix(message)\n",
      "    #print(message)\n",
      "    \n",
      "    #Hamming (7,4) generating matrix to encode the message\n",
      "    g = np.matrix([[1, 0, 0, 0, 0, 1, 1],\n",
      "                   [0, 1, 0, 0, 1, 0, 1],\n",
      "                   [0, 0, 1, 0, 1, 1, 0],\n",
      "                   [0, 0, 0, 1, 1, 1, 1]])\n",
      "    #Multiply the message with the matrix to encode the message with module 2\n",
      "    return ( message * g ) % 2\n",
      "\n",
      "#Method to decode message\n",
      "def decode(message):\n",
      "     \n",
      "    #Matrix to decode the message\n",
      "    h = np.matrix([[0, 0, 0, 1, 1, 1, 1],\n",
      "                   [0, 1, 1, 0, 0, 1, 1],\n",
      "                   [1, 0, 1, 0, 1, 0, 1]])\n",
      "    #Multiply the message with the matrix to verify the message with module 2\n",
      "    #This is the syndrom\n",
      "    hy = ( h * message.T)  % 2  #%2 is the modulo 2 operation\n",
      "    \n",
      "    #Get the integer value of the binary as result of the previous operation\n",
      "    #print(hy)\n",
      "    s=binmat2dec(hy)\n",
      "    print(\"Syndrom: \",s)\n",
      "    #print(s)\n",
      "    # the syndrom gives the bit number. \n",
      "    #Since indexes begin at 0 there is a shift of one\n",
      "    if s!=0:\n",
      "        message[0,s-1]=(message[0,s-1]+1) %2\n",
      "    return (s,message)"
     ],
     "language": "python",
     "metadata": {},
     "outputs": [],
     "prompt_number": 27
    },
    {
     "cell_type": "markdown",
     "metadata": {},
     "source": [
      "## A test\n",
      "And finally a test of encoding-decoding with some corruptions of the message."
     ]
    },
    {
     "cell_type": "code",
     "collapsed": false,
     "input": [
      "def hamm_tst():\n",
      "    \n",
      "    n=int(input('Please input a number in [0,15] '))\n",
      "    if n<0 or n>15:\n",
      "        print(\"n must be between 0 and 15\")\n",
      "        raise ValueError\n",
      "    print('binary number: ', bin(n) )\n",
      "    b=dec2binmat(n)\n",
      "    enc=encode(b)\n",
      "    print('encoded version: ', enc)\n",
      "    print('decoded version: ', decode(enc))\n",
      "    print('.'*20)\n",
      "    print('let us add a random error: ')\n",
      "    noise=random.randint(0,7) # change one bit among 7 possible\n",
      "    newenc=enc.copy()\n",
      "    newenc[0,noise]=(newenc[0,noise]+1) %2\n",
      "    nb=noise+1        \n",
      "    print('bit number %d is changed: ' % nb)\n",
      "    print(\"new message \",newenc)\n",
      "   \n",
      "    print('decoded version: ', decode(newenc)[1])\n",
      "    print('The End')\n",
      "    \n",
      "hamm_tst()"
     ],
     "language": "python",
     "metadata": {},
     "outputs": [
      {
       "name": "stdout",
       "output_type": "stream",
       "stream": "stdout",
       "text": [
        "Please input a number in [0,15] 9\n"
       ]
      },
      {
       "output_type": "stream",
       "stream": "stdout",
       "text": [
        "binary number:  0b1001\n",
        "encoded version:  [[1 0 0 1 1 0 0]]\n",
        "Syndrom:  0\n",
        "decoded version:  (0, matrix([[1, 0, 0, 1, 1, 0, 0]]))\n",
        "....................\n",
        "let us add a random error: \n",
        "bit number 3 is changed: \n",
        "new message  [[1 0 1 1 1 0 0]]\n",
        "Syndrom:  3\n",
        "decoded version:  [[1 0 0 1 1 0 0]]\n",
        "The End\n"
       ]
      }
     ],
     "prompt_number": 28
    },
    {
     "cell_type": "markdown",
     "metadata": {},
     "source": [
      "## An object-oriented version\n",
      "Let us now design an object 'Hamming codec'."
     ]
    },
    {
     "cell_type": "code",
     "collapsed": false,
     "input": [
      "class Hamming_codec():\n",
      "    def __init__(self):\n",
      "        self.indata=[[0,0,0,0]]\n",
      "    def data(self,indata=None):\n",
      "        if indata:\n",
      "            indata=list(indata)\n",
      "            ll=[int(k) for k in indata] # for each element in the list convert to int\n",
      "            self.indata=np.matrix(ll)\n",
      "        else:\n",
      "           self.decode() \n",
      "    def code(self,incode=None):\n",
      "        self.code=encode(self.indata)\n",
      "        print(\"Code: \",self.code)\n",
      "        \n",
      "    def decode(self,incode=None):  \n",
      "         if incode:\n",
      "            indata=list(incode)\n",
      "            ll=[int(k) for k in indata] # for each element in the list convert to int\n",
      "            self.code=np.matrix(ll)\n",
      "         r=decode(self.code)[1]\n",
      "         print(\"Decoded value: \",r)\n",
      "        "
     ],
     "language": "python",
     "metadata": {},
     "outputs": [],
     "prompt_number": 29
    },
    {
     "cell_type": "code",
     "collapsed": false,
     "input": [
      "t=Hamming_codec()\n",
      "t.data('1101')\n",
      "t.code()\n",
      "t.decode()\n",
      "print(\"\\nAnd now introduce an error...\")\n",
      "t.decode('1101011')"
     ],
     "language": "python",
     "metadata": {},
     "outputs": [
      {
       "output_type": "stream",
       "stream": "stdout",
       "text": [
        "Code:  [[1 1 0 1 0 0 1]]\n",
        "Syndrom:  0\n",
        "Decoded value:  [[1 1 0 1 0 0 1]]\n",
        "\n",
        "And now introduce an error...\n",
        "Syndrom:  6\n",
        "Decoded value:  [[1 1 0 1 0 0 1]]\n"
       ]
      }
     ],
     "prompt_number": 30
    },
    {
     "cell_type": "code",
     "collapsed": false,
     "input": [
      "HTML(the_end(theNotebook))"
     ],
     "language": "python",
     "metadata": {},
     "outputs": [
      {
       "html": [
        "\n",
        "    <small>\n",
        "    <p> This post was written as an IPython notebook.  It is available for\n",
        "    <a href=\"http://jfbercher.github.com/jfblog/downloads/notebooks/Hamming_code.ipynb\">download</a> or as a static\n",
        "    <a href=\"http://nbviewer.ipython.org/url/jfbercher.github.com/jfblog/downloads/notebooks/Hamming_code.ipynb\">html</a>.</p>\n",
        "    <p></p>\n",
        "    <a rel=\"license\" href=\"http://creativecommons.org/licenses/by-sa/4.0/\"><img\n",
        "    alt=\"Creative Commons License\" style=\"border-width:0\"\n",
        "    src=\"http://i.creativecommons.org/l/by-sa/4.0/88x31.png\" /></a><br /><span\n",
        "    xmlns:dct=\"http://purl.org/dc/terms/\"\n",
        "    property=\"dct:title\">jfblog</span> by <a\n",
        "    xmlns:cc=\"http://creativecommons.org/ns#\" href=\"http://jfbercher.github.io/\"\n",
        "    property=\"cc:attributionName\" rel=\"cc:attributionURL\">J.-F. Bercher</a> is\n",
        "    licensed under a <a rel=\"license\"\n",
        "    href=\"http://creativecommons.org/licenses/by-sa/4.0/\">Creative Commons\n",
        "    Attribution-ShareAlike 4.0 International License</a>.<br />Based on a work at <a\n",
        "    xmlns:dct=\"http://purl.org/dc/terms/\" href=\"http://jfbercher.github.io/\"\n",
        "    rel=\"dct:source\">http://jfbercher.github.io/</a>.\n",
        "        "
       ],
       "metadata": {},
       "output_type": "pyout",
       "prompt_number": 33,
       "text": [
        "<IPython.core.display.HTML at 0x7f2c85153128>"
       ]
      }
     ],
     "prompt_number": 33
    }
   ],
   "metadata": {}
  }
 ]
}