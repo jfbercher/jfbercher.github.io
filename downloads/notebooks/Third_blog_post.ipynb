{
 "metadata": {
  "name": "",
  "signature": "sha256:f51cb65acc43f61333e4e673e818aa470763d50e0b8173a4a539138332bb5130"
 },
 "nbformat": 3,
 "nbformat_minor": 0,
 "worksheets": [
  {
   "cells": [
    {
     "cell_type": "raw",
     "metadata": {},
     "source": [
      "title:  Publishing on Github\n",
      "slug: This is the second post\n",
      "date: 2014-05-21 23:48\n",
      "tags: misc\n",
      "comments: true\n"
     ]
    },
    {
     "cell_type": "markdown",
     "metadata": {},
     "source": [
      "The first thing to do is to create an account on [Github pages](http://pages.github.com/) and then follow the directions. This drives to \n",
      "\n",
      "- create a repository, say `repo`\n",
      "- and then create a `gh-pages` branch\n",
      "\n",
      "then the content will be available (after a few minutes) in http://username.github.io/repo/ \n",
      "\n",
      "_The point is that you will have to publish your materials on gh-pages branch._\n",
      "\n",
      "Here follows the `mydeploy` section of my Makefile that I used for that purpose:"
     ]
    },
    {
     "cell_type": "code",
     "collapsed": false,
     "input": [
      "# <!-- collapse=True -->\n",
      "mydeploy: publish\n",
      "\t   if test -d my_build; \\\n",
      "\t   then echo \" (_build directory exists)\"; \\\n",
      "\t   else mkdir my_build; \\\n",
      "\t   fi\n",
      "\t   if test -d my_build/$(DEPLOYREPOSITORY); \\\n",
      "\t   then echo \"  (repository directory exists)\"; \\\n",
      "\t   else cd my_build && git clone https://github.com/$(USERNAME)/$(DEPLOYREPOSITORY).git \\\n",
      "            cd $(DEPLOYREPOSITORY) && git checkout --orphan gh-pages \\ \n",
      "            git rm -rf . && rm -f '.gitignore' ; \\\n",
      "\t   fi\n",
      "\t   #cd _build/$(DEPLOYREPOSITORY) && git pull\n",
      "\t   rsync -r $(OUTPUTDIR)/* my_build/$(DEPLOYREPOSITORY)/\n",
      "\t   cd my_build/$(DEPLOYREPOSITORY) && git add . && git commit -a -m \"make deploy\"\n",
      "\t   cd my_build/$(DEPLOYREPOSITORY) && git push origin gh-pages\n"
     ],
     "language": "python",
     "metadata": {},
     "outputs": []
    },
    {
     "cell_type": "markdown",
     "metadata": {},
     "source": [
      "However, though it seems not sait in the recent docs, it is also possible to create a repository with the very same name as user github address; that is for the the http address `username.github.io`, create a repository `username.github.io`. In such a case, files pushed to this repository will be available implicitely, and directly at `http://username.github.io`. In such a case, it is possible to employ the original Makefile's code:"
     ]
    },
    {
     "cell_type": "code",
     "collapsed": false,
     "input": [
      "# <!-- collapse=True -->\n",
      "deploy: publish\n",
      "\tif test -d _build; \\\n",
      "\tthen echo \" (_build directory exists)\"; \\\n",
      "\telse mkdir _build; \\\n",
      "\tfi\n",
      "\tif test -d _build/$(DEPLOYREPOSITORY); \\\n",
      "\tthen echo \"  (repository directory exists)\"; \\\n",
      "\telse cd _build && git clone https://github.com/$(USERNAME)/$(DEPLOYREPOSITORY).git; \\\n",
      "\tfi\n",
      "\tcd _build/$(DEPLOYREPOSITORY) && git pull\n",
      "\trsync -r $(OUTPUTDIR)/* _build/$(DEPLOYREPOSITORY)/\n",
      "\tcd _build/$(DEPLOYREPOSITORY) && git add . && git commit -m \"make deploy\"\n",
      "\tcd _build/$(DEPLOYREPOSITORY) && git push origin master"
     ],
     "language": "python",
     "metadata": {},
     "outputs": []
    },
    {
     "cell_type": "code",
     "collapsed": false,
     "input": [
      "HTML(the_end(theNotebook))"
     ],
     "language": "python",
     "metadata": {},
     "outputs": [
      {
       "html": [
        "\n",
        "    <small>\n",
        "    <p> This post was written as an IPython notebook.  It is available for\n",
        "    <a href=\"http://jfbercher.github.com/jfblog/downloads/notebooks/Third_blog_post.ipynb\">download</a> or as a static\n",
        "    <a href=\"http://nbviewer.ipython.org/url/jfbercher.github.com/jfblog/downloads/notebooks/Third_blog_post.ipynb\">html</a>.</p>\n",
        "    <p></p>\n",
        "    <a rel=\"license\" href=\"http://creativecommons.org/licenses/by-sa/4.0/\"><img\n",
        "    alt=\"Creative Commons License\" style=\"border-width:0\"\n",
        "    src=\"http://i.creativecommons.org/l/by-sa/4.0/88x31.png\" /></a><br /><span\n",
        "    xmlns:dct=\"http://purl.org/dc/terms/\"\n",
        "    property=\"dct:title\">jfblog</span> by <a\n",
        "    xmlns:cc=\"http://creativecommons.org/ns#\" href=\"http://jfbercher.github.io/\"\n",
        "    property=\"cc:attributionName\" rel=\"cc:attributionURL\">J.-F. Bercher</a> is\n",
        "    licensed under a <a rel=\"license\"\n",
        "    href=\"http://creativecommons.org/licenses/by-sa/4.0/\">Creative Commons\n",
        "    Attribution-ShareAlike 4.0 International License</a>.<br />Based on a work at <a\n",
        "    xmlns:dct=\"http://purl.org/dc/terms/\" href=\"http://jfbercher.github.io/\"\n",
        "    rel=\"dct:source\">http://jfbercher.github.io/</a>.\n",
        "        "
       ],
       "metadata": {},
       "output_type": "pyout",
       "prompt_number": 1,
       "text": [
        "<IPython.core.display.HTML at 0x7fecf2a7ffd0>"
       ]
      }
     ],
     "prompt_number": 1
    }
   ],
   "metadata": {}
  }
 ]
}